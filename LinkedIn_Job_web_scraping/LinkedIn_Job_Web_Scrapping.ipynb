{
 "cells": [
  {
   "cell_type": "code",
   "execution_count": 55,
   "metadata": {},
   "outputs": [],
   "source": [
    "# importing packages\n",
    "import pandas as pd\n",
    "import re\n",
    "\n",
    "from bs4 import BeautifulSoup\n",
    "from datetime import date, timedelta, datetime\n",
    "from IPython.core.display import clear_output\n",
    "from random import randint\n",
    "from requests import get\n",
    "from selenium import webdriver\n",
    "from selenium.webdriver.common.action_chains import ActionChains\n",
    "from time import sleep\n",
    "from time import time\n",
    "start_time = time()\n",
    "\n",
    "from warnings import warn\n"
   ]
  },
  {
   "cell_type": "code",
   "execution_count": 56,
   "metadata": {},
   "outputs": [],
   "source": [
    "url = \"https://www.linkedin.com/jobs/search?keywords=Data%20&location=Finland%20sortBy%3DDD&geoId=100456013&trk=public_jobs_jobs-search-bar_search-submit&position=1&pageNum=0\"\n",
    "no_of_jobs = 25"
   ]
  },
  {
   "cell_type": "code",
   "execution_count": 48,
   "metadata": {},
   "outputs": [],
   "source": [
    "# this will open up new window with the url provided above \n",
    "driver = webdriver.Chrome('/Users/admin/Documents/Data_Science_2021/Machine_Learning/Coursera_ML/chromedriver')\n",
    "driver.get(url)\n",
    "sleep(3)\n",
    "action = ActionChains(driver)"
   ]
  },
  {
   "cell_type": "code",
   "execution_count": 49,
   "metadata": {},
   "outputs": [],
   "source": [
    "i = 2\n",
    "while i <= (no_of_jobs/25): \n",
    "    driver.find_element_by_xpath('/html/body/main/div/section/button').click()\n",
    "    i = i + 1\n",
    "    sleep(5)"
   ]
  },
  {
   "cell_type": "code",
   "execution_count": null,
   "metadata": {},
   "outputs": [],
   "source": [
    "# parsing the visible webpage\n",
    "pageSource = driver.page_source\n",
    "lxml_soup = BeautifulSoup(pageSource, 'lxml')\n",
    "\n",
    "# searching for all job containers\n",
    "job_container = lxml_soup.find('ul', class_ = 'jobs-search__results-list')\n",
    "\n",
    "\n",
    "# setting up list for job information\n",
    "job_id = []\n",
    "post_title = []\n",
    "company_name = []\n",
    "post_date = []\n",
    "job_location = []\n",
    "job_desc = []\n",
    "level = []\n",
    "emp_type = []\n",
    "functions = []\n",
    "industries = []\n",
    "\n",
    "# for loop for job title, company, id, location and date posted\n",
    "for job in job_container:\n",
    "    \n",
    "    # job title\n",
    "    job_titles = job.find(\"span\", class_=\"screen-reader-text\").text\n",
    "    post_title.append(job_titles)\n",
    "    \n",
    "    # linkedin job id\n",
    "    job_ids = job.find('a', href=True)['href']\n",
    "    job_ids = re.findall(r'(?!-)([0-9]*)(?=\\?)',job_ids)[0]\n",
    "    job_id.append(job_ids)\n",
    "    \n",
    "    # company name\n",
    "    company_names = job.select_one('img')['alt']\n",
    "    company_name.append(company_names)\n",
    "    \n",
    "    # job location\n",
    "    job_locations = job.find(\"span\", class_=\"job-result-card__location\").text\n",
    "    job_location.append(job_locations)\n",
    "    \n",
    "    # posting date\n",
    "    post_dates = job.select_one('time')['datetime']\n",
    "    post_date.append(post_dates)\n",
    "\n",
    "# for loop for job description and criterias\n",
    "for x in range(1,len(job_id)+1):\n",
    "    \n",
    "    # clicking on different job containers to view information about the job\n",
    "    job_xpath = '/html/body/main/div/section/ul/li[{}]/img'.format(x)\n",
    "    driver.find_element_by_xpath(job_xpath).click()\n",
    "    sleep(3)\n",
    "    \n",
    "    # job description\n",
    "    jobdesc_xpath = '/html/body/main/section/div[2]/section[2]/div'\n",
    "    job_descs = driver.find_element_by_xpath(jobdesc_xpath).text\n",
    "    job_desc.append(job_descs)\n",
    "    \n",
    "    # job criteria container below the description\n",
    "    job_criteria_container = lxml_soup.find('ul', class_ = 'job-criteria__list')\n",
    "    all_job_criterias = job_criteria_container.find_all(\"span\", class_='job-criteria__text job-criteria__text--criteria')\n",
    "    \n",
    "    # Seniority level\n",
    "    seniority_xpath = '/html/body/main/section[1]/section[3]/ul/li[1]'\n",
    "    seniority = driver.find_element_by_xpath(seniority_xpath).text.splitlines(0)[1]\n",
    "    level.append(seniority)\n",
    "    #/html/body/main/section[1]/section[3]/ul/li[1]/h3\n",
    "    # Employment type\n",
    "    #/html/body/main/section[1]/section[3]/ul/li[2]/h3\n",
    "    type_xpath = '/html/body/main/section/section[2]/ul/li[2]'\n",
    "    employment_type = driver.find_element_by_xpath(type_xpath).text.splitlines(0)[1]\n",
    "    emp_type.append(employment_type)\n",
    "    \n",
    "    # Job function\n",
    "   # function_xpath = '/html/body/main/section/div[2]/section[2]/ul/li[3]'\n",
    "    #job_function = driver.find_element_by_xpath(function_xpath).text.splitlines(0)[1]\n",
    "    #functions.append(job_function)\n",
    "    \n",
    "    # Industries\n",
    "    #industry_xpath = '/html/body/main/section/div[2]/section[2]/ul/li[4]'\n",
    "    #industry_type = driver.find_element_by_xpath(industry_xpath).text.splitlines(0)[1]\n",
    "    #industries.append(industry_type)\n",
    "    \n",
    "    x = x+1"
   ]
  },
  {
   "cell_type": "code",
   "execution_count": 54,
   "metadata": {},
   "outputs": [
    {
     "name": "stdout",
     "output_type": "stream",
     "text": [
      "24\n",
      "24\n",
      "24\n",
      "24\n",
      "24\n",
      "1\n",
      "0\n"
     ]
    }
   ],
   "source": [
    "# to check if we have all information\n",
    "print(len(job_id))\n",
    "print(len(post_date))\n",
    "print(len(company_name))\n",
    "print(len(post_title))\n",
    "print(len(job_location))\n",
    "print(len(job_desc))\n",
    "print(len(level))"
   ]
  },
  {
   "cell_type": "code",
   "execution_count": 14,
   "metadata": {},
   "outputs": [
    {
     "name": "stdout",
     "output_type": "stream",
     "text": [
      "<class 'pandas.core.frame.DataFrame'>\n",
      "RangeIndex: 25 entries, 0 to 24\n",
      "Data columns (total 7 columns):\n",
      " #   Column        Non-Null Count  Dtype \n",
      "---  ------        --------------  ----- \n",
      " 0   Job ID        25 non-null     object\n",
      " 1   Date          25 non-null     object\n",
      " 2   Company Name  25 non-null     object\n",
      " 3   Post          25 non-null     object\n",
      " 4   Location      25 non-null     object\n",
      " 5   Description   25 non-null     object\n",
      " 6   Level         25 non-null     object\n",
      "dtypes: object(7)\n",
      "memory usage: 1.5+ KB\n",
      "None\n"
     ]
    },
    {
     "data": {
      "text/html": [
       "<div>\n",
       "<style scoped>\n",
       "    .dataframe tbody tr th:only-of-type {\n",
       "        vertical-align: middle;\n",
       "    }\n",
       "\n",
       "    .dataframe tbody tr th {\n",
       "        vertical-align: top;\n",
       "    }\n",
       "\n",
       "    .dataframe thead th {\n",
       "        text-align: right;\n",
       "    }\n",
       "</style>\n",
       "<table border=\"1\" class=\"dataframe\">\n",
       "  <thead>\n",
       "    <tr style=\"text-align: right;\">\n",
       "      <th></th>\n",
       "      <th>Job ID</th>\n",
       "      <th>Date</th>\n",
       "      <th>Company Name</th>\n",
       "      <th>Post</th>\n",
       "      <th>Location</th>\n",
       "      <th>Description</th>\n",
       "      <th>Level</th>\n",
       "    </tr>\n",
       "  </thead>\n",
       "  <tbody>\n",
       "    <tr>\n",
       "      <th>0</th>\n",
       "      <td>2549025509</td>\n",
       "      <td>2021-05-14</td>\n",
       "      <td>Opset Oy Graphic</td>\n",
       "      <td>Business Data Analyst</td>\n",
       "      <td>Helsinki, Southern Finland, Finland</td>\n",
       "      <td>Opset on OP Ryhmän pitkäaikainen kumppani ja t...</td>\n",
       "      <td>Temporary</td>\n",
       "    </tr>\n",
       "    <tr>\n",
       "      <th>1</th>\n",
       "      <td>2491424180</td>\n",
       "      <td>2021-03-12</td>\n",
       "      <td>Unity Graphic</td>\n",
       "      <td>Data Analyst - Helsinki</td>\n",
       "      <td>Helsinki, Uusimaa, Finland</td>\n",
       "      <td>Role Description  The Business Intelligence te...</td>\n",
       "      <td>Entry level</td>\n",
       "    </tr>\n",
       "    <tr>\n",
       "      <th>2</th>\n",
       "      <td>2511682839</td>\n",
       "      <td>2021-04-20</td>\n",
       "      <td>Supermetrics Graphic</td>\n",
       "      <td>Data Analyst</td>\n",
       "      <td>Helsinki Metropolitan Area</td>\n",
       "      <td>Direct message the job poster from Supermetric...</td>\n",
       "      <td>Mid-Senior level</td>\n",
       "    </tr>\n",
       "    <tr>\n",
       "      <th>3</th>\n",
       "      <td>2417294106</td>\n",
       "      <td>2021-04-21</td>\n",
       "      <td>Unity Technologies Graphic</td>\n",
       "      <td>Data Analyst</td>\n",
       "      <td>Helsinki, Southern Finland, Finland</td>\n",
       "      <td>Direct message the job poster from Unity Techn...</td>\n",
       "      <td>Entry level</td>\n",
       "    </tr>\n",
       "    <tr>\n",
       "      <th>4</th>\n",
       "      <td>2542981153</td>\n",
       "      <td>2021-05-11</td>\n",
       "      <td>CGI Graphic</td>\n",
       "      <td>Data Analyst</td>\n",
       "      <td>Turku, West and Inner Finland, Finland</td>\n",
       "      <td>Job Description  Job Description  Data Analyst...</td>\n",
       "      <td>Entry level</td>\n",
       "    </tr>\n",
       "  </tbody>\n",
       "</table>\n",
       "</div>"
      ],
      "text/plain": [
       "       Job ID        Date                Company Name  \\\n",
       "0  2549025509  2021-05-14            Opset Oy Graphic   \n",
       "1  2491424180  2021-03-12               Unity Graphic   \n",
       "2  2511682839  2021-04-20        Supermetrics Graphic   \n",
       "3  2417294106  2021-04-21  Unity Technologies Graphic   \n",
       "4  2542981153  2021-05-11                 CGI Graphic   \n",
       "\n",
       "                      Post                                Location  \\\n",
       "0    Business Data Analyst     Helsinki, Southern Finland, Finland   \n",
       "1  Data Analyst - Helsinki              Helsinki, Uusimaa, Finland   \n",
       "2             Data Analyst              Helsinki Metropolitan Area   \n",
       "3             Data Analyst     Helsinki, Southern Finland, Finland   \n",
       "4             Data Analyst  Turku, West and Inner Finland, Finland   \n",
       "\n",
       "                                         Description             Level  \n",
       "0  Opset on OP Ryhmän pitkäaikainen kumppani ja t...         Temporary  \n",
       "1  Role Description  The Business Intelligence te...       Entry level  \n",
       "2  Direct message the job poster from Supermetric...  Mid-Senior level  \n",
       "3  Direct message the job poster from Unity Techn...       Entry level  \n",
       "4  Job Description  Job Description  Data Analyst...       Entry level  "
      ]
     },
     "execution_count": 14,
     "metadata": {},
     "output_type": "execute_result"
    }
   ],
   "source": [
    "# creating a dataframe\n",
    "job_data = pd.DataFrame({'Job ID': job_id,\n",
    "'Date': post_date,\n",
    "'Company Name': company_name,\n",
    "'Post': post_title,\n",
    "'Location': job_location,\n",
    "'Description': job_desc,\n",
    "'Level': level\n",
    "})\n",
    "\n",
    "# cleaning description column\n",
    "job_data['Description'] = job_data['Description'].str.replace('\\n',' ')\n",
    "\n",
    "print(job_data.info())\n",
    "job_data.head()"
   ]
  },
  {
   "cell_type": "code",
   "execution_count": 15,
   "metadata": {},
   "outputs": [],
   "source": [
    "job_data.to_csv('LinkedIn Job Data.csv', index=0)"
   ]
  },
  {
   "cell_type": "code",
   "execution_count": 16,
   "metadata": {},
   "outputs": [
    {
     "data": {
      "text/plain": [
       "(25, 7)"
      ]
     },
     "execution_count": 16,
     "metadata": {},
     "output_type": "execute_result"
    }
   ],
   "source": [
    "job_data.shape"
   ]
  },
  {
   "cell_type": "code",
   "execution_count": 17,
   "metadata": {},
   "outputs": [
    {
     "data": {
      "text/plain": [
       "['Job ID', 'Date', 'Company Name', 'Post', 'Location', 'Description', 'Level']"
      ]
     },
     "execution_count": 17,
     "metadata": {},
     "output_type": "execute_result"
    }
   ],
   "source": [
    "job_data.columns.to_list()"
   ]
  },
  {
   "cell_type": "code",
   "execution_count": null,
   "metadata": {},
   "outputs": [],
   "source": []
  }
 ],
 "metadata": {
  "kernelspec": {
   "display_name": "Python 3 (ipykernel)",
   "language": "python",
   "name": "python3"
  },
  "language_info": {
   "codemirror_mode": {
    "name": "ipython",
    "version": 3
   },
   "file_extension": ".py",
   "mimetype": "text/x-python",
   "name": "python",
   "nbconvert_exporter": "python",
   "pygments_lexer": "ipython3",
   "version": "3.9.7"
  }
 },
 "nbformat": 4,
 "nbformat_minor": 4
}
